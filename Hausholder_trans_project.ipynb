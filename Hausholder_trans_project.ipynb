{
 "cells": [
  {
   "cell_type": "markdown",
   "metadata": {},
   "source": [
    "# Hausholder transformation project \n",
    "##### made  for numerical analysis classes by Kamil Bartocha, Marcin Baranek and Mateusz Kamyczura"
   ]
  },
  {
   "cell_type": "markdown",
   "metadata": {},
   "source": [
    "### Import Libraries"
   ]
  },
  {
   "cell_type": "code",
   "execution_count": 25,
   "metadata": {},
   "outputs": [],
   "source": [
    "import numpy as np\n",
    "import math\n",
    "import time"
   ]
  },
  {
   "cell_type": "markdown",
   "metadata": {},
   "source": [
    "### Input matrix from user"
   ]
  },
  {
   "cell_type": "code",
   "execution_count": 26,
   "metadata": {},
   "outputs": [],
   "source": [
    "def input_matrix():\n",
    "    # Take matrix size as input\n",
    "    while True:\n",
    "        try:\n",
    "            row_number = int(input(\"enter number of rows: \"))\n",
    "            column_number = int(input(\"enter number of columns: \"))\n",
    "            break\n",
    "        except ValueError:\n",
    "            print(\"That was no valid number. Try to input integer again \")\n",
    "        \n",
    "    # initialise matrix with zeroes\n",
    "    matrix = np.zeros((row_number, column_number))\n",
    "\n",
    "    # input each element row at a time\n",
    "    for row_iterator in range(row_number):\n",
    "        for column_iterator in range(column_number):\n",
    "            while True:\n",
    "                try:\n",
    "                    matrix[row_iterator][column_iterator] = input(f'enter value of matrix[{row_iterator}][{column_iterator}] = ')\n",
    "                    break\n",
    "                except ValueError:\n",
    "                    print(\"That was no valid number. Try to input number again \")   \n",
    "    return matrix"
   ]
  },
  {
   "cell_type": "code",
   "execution_count": 27,
   "metadata": {},
   "outputs": [
    {
     "name": "stdout",
     "output_type": "stream",
     "text": [
      "enter number of rows: 1\n",
      "enter number of columns: 1\n",
      "enter value of matrix[0][0] = 2\n"
     ]
    }
   ],
   "source": [
    "matrix = input_matrix()\n",
    "#print(matrix)"
   ]
  },
  {
   "cell_type": "markdown",
   "metadata": {},
   "source": [
    "### Householder transformation "
   ]
  },
  {
   "cell_type": "code",
   "execution_count": 28,
   "metadata": {},
   "outputs": [],
   "source": [
    "def householder_transformation_matrix(vector: np.ndarray, new_vector: np.ndarray,\n",
    "                                      time_of_execution=False) -> np.ndarray:\n",
    "    if time_of_execution:\n",
    "        now = time.time()\n",
    "    if not (isinstance(vector, np.ndarray) and isinstance(new_vector, np.ndarray)):\n",
    "        print(\"Error in householder_transformation: input vector is not a numpy.ndarray object\")\n",
    "        return np.array(False)\n",
    "    vector = np.reshape(vector, newshape=(-1, 1))\n",
    "    new_vector = np.reshape(new_vector, newshape=(-1, 1))\n",
    "    if vector.shape != new_vector.shape:\n",
    "        print(\"Error in householder_transformation: wrong shape of inputs vectors\")\n",
    "        return np.array(False)\n",
    "    dimensional = vector.shape[0]\n",
    "    cos_of_angel_between_vector_and_new_vector = np.dot(np.transpose(vector), new_vector)\n",
    "    #for numerical stability we chose a vector of more norm\n",
    "    if cos_of_angel_between_vector_and_new_vector >= 0:\n",
    "        householder_vector = vector + math.sqrt((vector**2).sum()) * new_vector\n",
    "    else:\n",
    "        householder_vector = vector - math.sqrt((vector ** 2).sum()) * new_vector\n",
    "    specular_reflection = np.dot(np.transpose(householder_vector), householder_vector)\n",
    "    if specular_reflection != 0:\n",
    "        specular_reflection = 2 / specular_reflection\n",
    "    else:\n",
    "        print(\"Error in householder_transformation: specular reflection is equal +infinity\")\n",
    "        print(\"you tried to divide by 0\")\n",
    "        return np.array(False)\n",
    "    identity_matrix = init_identity_matrix(dimensional)\n",
    "    #create householder matrix\n",
    "    householder_matrix = specular_reflection * np.dot(householder_vector, np.transpose(householder_vector))\n",
    "    householder_matrix = identity_matrix - householder_matrix\n",
    "    if time_of_execution:\n",
    "        print(f\"time of execution householder_transformation_matrix is: {time.time() - now} s\")\n",
    "    return householder_matrix"
   ]
  },
  {
   "cell_type": "markdown",
   "metadata": {},
   "source": [
    "### improvement r matrix\n",
    "###### for numerical stability, inserts 0 where they sure are (for upper triangular matrix)"
   ]
  },
  {
   "cell_type": "code",
   "execution_count": 29,
   "metadata": {},
   "outputs": [],
   "source": [
    "def improvement_r_matrix(matrix: np.ndarray, iteration: int) -> np.ndarray:\n",
    "    j = 1\n",
    "    for i in range(iteration):\n",
    "        matrix[j:, i] = np.zeros(shape=matrix[j:, i].shape)\n",
    "        j += 1\n",
    "    return matrix"
   ]
  },
  {
   "cell_type": "markdown",
   "metadata": {},
   "source": [
    "### improvement matrix\n",
    "###### for numerical stability, inserts $\\epsilon$ where they sure are (for upper triangular matrix)"
   ]
  },
  {
   "cell_type": "code",
   "execution_count": 30,
   "metadata": {},
   "outputs": [],
   "source": [
    "def improvement_matrix(matrix: np.ndarray, epsilon=1.e-5):\n",
    "    matrix = matrix.astype(dtype=float)\n",
    "    location = np.where(abs(matrix - 0) < epsilon)\n",
    "    matrix[location] = epsilon\n",
    "    return matrix"
   ]
  },
  {
   "cell_type": "markdown",
   "metadata": {},
   "source": [
    "### Hausholder algorithm"
   ]
  },
  {
   "cell_type": "code",
   "execution_count": 34,
   "metadata": {},
   "outputs": [],
   "source": [
    "def householder_algorithm(matrix: np.ndarray, improve_matrix=True,\n",
    "                          improve_r_matrix=True, time_of_execution=False) -> (np.ndarray, np.ndarray):\n",
    "    if time_of_execution:\n",
    "        now = time.time()\n",
    "    if not isinstance(matrix, np.ndarray):\n",
    "        print(\"Error in householder_algorithm: input matrix is not a numpy.ndarray object\")\n",
    "        return False\n",
    "    if improve_matrix:\n",
    "        matrix = improvement_matrix(matrix)\n",
    "    first_dimensional = matrix.shape[0]\n",
    "    if first_dimensional > matrix.shape[1]:\n",
    "        print(\"The matrix has the first dimension greater than the second,\\n\"\n",
    "              \"therefore the algorithm was run for the transposed matrix\")\n",
    "        first_dimensional = matrix.shape[1]\n",
    "        matrix = np.transpose(matrix)\n",
    "    identity_matrix = init_identity_matrix(first_dimensional)\n",
    "    # create P, Q and R matrix\n",
    "    # Q matrix will be transpose be for end of function\n",
    "    p_matrix = identity_matrix\n",
    "    q_matrix = np.zeros(shape=p_matrix.shape)\n",
    "    r_matrix = matrix\n",
    "    # create unit vector\n",
    "    unit_vector = np.zeros(shape=(first_dimensional, 1)).astype(int)\n",
    "    unit_vector[0, 0] = 1\n",
    "    for i in range(first_dimensional):\n",
    "        householder_matrix = householder_transformation_matrix(r_matrix[i:, i], unit_vector)\n",
    "        if not householder_matrix.all():\n",
    "            print(\"something went wrong\")\n",
    "            print(\"check the assumptions\")\n",
    "            return False, False\n",
    "        # preparing unit vector to next iteration\n",
    "        unit_vector = np.reshape(np.delete(unit_vector, -1), newshape=(-1, 1))\n",
    "        # update P matrix\n",
    "        p_matrix[i:, i:] = householder_matrix\n",
    "        # update R matrix\n",
    "        r_matrix = np.dot(p_matrix, r_matrix)\n",
    "        if improve_r_matrix:\n",
    "            r_matrix = improvement_r_matrix(r_matrix, i)\n",
    "        # update Q matrix\n",
    "        if i == 0:\n",
    "            q_matrix = p_matrix\n",
    "        else:\n",
    "            q_matrix = np.dot(p_matrix, q_matrix)\n",
    "        # preparing P matrix to next iteration\n",
    "        p_matrix = init_identity_matrix(first_dimensional)\n",
    "    q_matrix = np.transpose(q_matrix)\n",
    "    if time_of_execution:\n",
    "        print(f\"time of execution householder_algorithm is: {time.time() - now} s\")\n",
    "    return q_matrix, r_matrix"
   ]
  },
  {
   "cell_type": "markdown",
   "metadata": {},
   "source": [
    "### Linear equations with using hausholder algorithm"
   ]
  },
  {
   "cell_type": "code",
   "execution_count": 35,
   "metadata": {},
   "outputs": [],
   "source": [
    "def linear_equations_with_householder_algorithm(matrix: np.ndarray, bias: np.ndarray) -> np.ndarray:\n",
    "    dim = matrix.shape[0]\n",
    "    bias = np.reshape(bias, newshape=(dim, 1))\n",
    "    q_matrix, r_matrix = householder_algorithm(matrix)\n",
    "    bias = np.dot(np.transpose(q_matrix), bias)\n",
    "    solve = np.array(bias[-1, 0] / r_matrix[-1, -1])\n",
    "    solve = np.reshape(solve, newshape=(-1, 1))\n",
    "    for i in range(1, dim, 1):\n",
    "        next_solve_value = (bias[dim - i - 1, 0] - np.dot(r_matrix[dim - i - 1, dim - i:],\n",
    "                                                          solve))\\\n",
    "                           / r_matrix[dim - i - 1, dim - i - 1]\n",
    "        solve = np.append(next_solve_value, solve)\n",
    "        solve = np.reshape(solve, newshape=(-1, 1))\n",
    "    return solve"
   ]
  }
 ],
 "metadata": {
  "kernelspec": {
   "display_name": "Python 3",
   "language": "python",
   "name": "python3"
  },
  "language_info": {
   "codemirror_mode": {
    "name": "ipython",
    "version": 3
   },
   "file_extension": ".py",
   "mimetype": "text/x-python",
   "name": "python",
   "nbconvert_exporter": "python",
   "pygments_lexer": "ipython3",
   "version": "3.8.3"
  }
 },
 "nbformat": 4,
 "nbformat_minor": 4
}
