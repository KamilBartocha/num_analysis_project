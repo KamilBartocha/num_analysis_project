{
 "cells": [
  {
   "cell_type": "markdown",
   "metadata": {},
   "source": [
    "# Hausholder transformation project \n",
    "##### made  for numerical analysis classes by Kamil Bartocha, Marcin Baranek and Mateusz Kamyczura"
   ]
  },
  {
   "cell_type": "markdown",
   "metadata": {},
   "source": [
    "### Import Libraries"
   ]
  },
  {
   "cell_type": "code",
   "execution_count": 108,
   "metadata": {},
   "outputs": [],
   "source": [
    "import numpy as np\n",
    "import math\n",
    "import time"
   ]
  },
  {
   "cell_type": "markdown",
   "metadata": {},
   "source": [
    "### Input matrix from user"
   ]
  },
  {
   "cell_type": "code",
   "execution_count": 109,
   "metadata": {},
   "outputs": [],
   "source": [
    "def input_matrix():\n",
    "    # Take matrix size as input\n",
    "    while True:\n",
    "        try:\n",
    "            row_number = int(input(\"enter number of rows: \"))\n",
    "            column_number = int(input(\"enter number of columns: \"))\n",
    "            break\n",
    "        except ValueError:\n",
    "            print(\"That was no valid number. Try to input integer again \")\n",
    "        \n",
    "    # initialise matrix with zeroes\n",
    "    matrix = np.zeros((row_number, column_number))\n",
    "\n",
    "    # input each element row at a time\n",
    "    for row_iterator in range(row_number):\n",
    "        for column_iterator in range(column_number):\n",
    "            while True:\n",
    "                try:\n",
    "                    matrix[row_iterator][column_iterator] = input(f'enter value of matrix[{row_iterator}][{column_iterator}] = ')\n",
    "                    break\n",
    "                except ValueError:\n",
    "                    print(\"That was no valid number. Try to input number again \")   \n",
    "    return matrix"
   ]
  },
  {
   "cell_type": "markdown",
   "metadata": {},
   "source": [
    "### Householder transformation "
   ]
  },
  {
   "cell_type": "code",
   "execution_count": 110,
   "metadata": {},
   "outputs": [],
   "source": [
    "def householder_transformation_matrix(vector: np.ndarray, new_vector: np.ndarray,\n",
    "                                      time_of_execution=False) -> np.ndarray:\n",
    "\n",
    "    print(f\"\\ncompute transformation matrix for: {vector} innew direction: {new_vector}\")\n",
    "    if time_of_execution:\n",
    "        now = time.time()\n",
    "\n",
    "    vector = np.reshape(vector, newshape=(-1, 1))\n",
    "    new_vector = np.reshape(new_vector, newshape=(-1, 1))\n",
    "\n",
    "    dimensional = vector.shape[0]\n",
    "\n",
    "    cos_of_angel_between_vector_and_new_vector = np.dot(np.transpose(vector), new_vector)\n",
    "    # for numerical stability we chose a vector of more norm\n",
    "    if cos_of_angel_between_vector_and_new_vector > 0:\n",
    "        householder_vector = vector + math.sqrt((vector ** 2).sum()) * new_vector\n",
    "    else:\n",
    "        householder_vector = vector - math.sqrt((vector ** 2).sum()) * new_vector\n",
    "\n",
    "    specular_reflection = np.dot(np.transpose(householder_vector), householder_vector)\n",
    "    if specular_reflection != 0:\n",
    "        specular_reflection = 2 / specular_reflection\n",
    "    else:\n",
    "        #vector and direction vector have the same direction so return identity matrix\n",
    "        if time_of_execution:\n",
    "            print(f\"time of execution householder_transformation_matrix is: {time.time() - now} s\")\n",
    "        return np.eye(dimensional)\n",
    "\n",
    "    identity_matrix = np.eye(dimensional)\n",
    "\n",
    "    #create householder matrix\n",
    "    householder_matrix = specular_reflection * np.dot(householder_vector, np.transpose(householder_vector))\n",
    "    householder_matrix = identity_matrix - householder_matrix\n",
    "\n",
    "    if time_of_execution:\n",
    "        print(f\"time of execution householder_transformation_matrix is: {time.time() - now} s\")\n",
    "\n",
    "    print(f\"transformation matrix:\\n\"\n",
    "          f\"{householder_matrix}\")\n",
    "\n",
    "    return householder_matrix\n"
   ]
  },
  {
   "cell_type": "markdown",
   "metadata": {},
   "source": [
    "### improvement r matrix\n",
    "###### for numerical stability, inserts 0 where they sure are (for upper triangular matrix)"
   ]
  },
  {
   "cell_type": "code",
   "execution_count": 111,
   "metadata": {},
   "outputs": [],
   "source": [
    "def improvement_r_matrix(matrix: np.ndarray, iteration: int) -> np.ndarray:\n",
    "    j = 1\n",
    "    for i in range(iteration):\n",
    "        matrix[j:, i] = np.zeros(shape=matrix[j:, i].shape)\n",
    "        j += 1\n",
    "    return matrix"
   ]
  },
  {
   "cell_type": "markdown",
   "metadata": {},
   "source": [
    "### improvement matrix\n",
    "###### for numerical stability, inserts $\\epsilon$ where they sure are (for upper triangular matrix)"
   ]
  },
  {
   "cell_type": "code",
   "execution_count": 112,
   "metadata": {},
   "outputs": [],
   "source": [
    "def improvement_matrix(matrix: np.ndarray, epsilon=1.e-7):\n",
    "    matrix = matrix.astype(dtype=float)\n",
    "    location = np.where(abs(matrix - 0) < epsilon)\n",
    "    matrix[location] = epsilon\n",
    "    return matrix"
   ]
  },
  {
   "cell_type": "markdown",
   "metadata": {},
   "source": [
    "### Hausholder algorithm"
   ]
  },
  {
   "cell_type": "code",
   "execution_count": 113,
   "metadata": {},
   "outputs": [],
   "source": [
    "def householder_algorithm(matrix: np.ndarray,\n",
    "                          improve_matrix=True,\n",
    "                          improve_r_matrix=True,\n",
    "                          time_of_execution=False) -> (np.ndarray, np.ndarray):\n",
    "\n",
    "    print(f\"\\ncompute matrix decomposition for\\n\"\n",
    "          f\"{matrix}\")\n",
    "\n",
    "    if time_of_execution:\n",
    "        now = time.time()\n",
    "\n",
    "    if improve_matrix:\n",
    "        matrix = improvement_matrix(matrix)\n",
    "\n",
    "    first_dimensional = matrix.shape[0]\n",
    "\n",
    "    if first_dimensional > matrix.shape[1]:\n",
    "        print(\"The matrix has the first dimension greater than the second,\\n\\n\"\n",
    "              \"therefore the algorithm was run for the transposed matrix\")\n",
    "        first_dimensional = matrix.shape[1]\n",
    "        matrix = np.transpose(matrix)\n",
    "\n",
    "    identity_matrix = np.eye(first_dimensional)\n",
    "\n",
    "    # create P, Q and R matrix\n",
    "    # Q matrix will be transpose be for end of function\n",
    "    p_matrix = identity_matrix\n",
    "    q_matrix = np.zeros(shape=p_matrix.shape)\n",
    "    r_matrix = matrix\n",
    "\n",
    "    # create unit vector\n",
    "    unit_vector = np.zeros(shape=(first_dimensional, 1)).astype(int)\n",
    "    unit_vector[0, 0] = 1\n",
    "\n",
    "    for i in range(first_dimensional):\n",
    "\n",
    "        householder_matrix = householder_transformation_matrix(r_matrix[i:, i], unit_vector)\n",
    "\n",
    "        if not householder_matrix.all():\n",
    "            print(\"something went wrong\")\n",
    "            print(\"check the assumptions\")\n",
    "            return False, False\n",
    "\n",
    "        # preparing unit vector to next iteration\n",
    "        if i < first_dimensional - 1:\n",
    "            unit_vector = np.reshape(np.delete(unit_vector, -1), newshape=(-1, 1))\n",
    "\n",
    "        # update P matrix\n",
    "        if i < first_dimensional - 1:\n",
    "            p_matrix[i:, i:] = householder_matrix\n",
    "\n",
    "        print(f\"\\ncurrent P matrix:\\n\\n\"\n",
    "              f\"{p_matrix}\")\n",
    "\n",
    "        # update R matrix\n",
    "        r_matrix = np.dot(p_matrix, r_matrix)\n",
    "        if improve_r_matrix:\n",
    "            r_matrix = improvement_r_matrix(r_matrix, i)\n",
    "\n",
    "        print(f\"\\ncurrent R matrix:\\n\\n\"\n",
    "              f\"{r_matrix}\")\n",
    "\n",
    "        # update Q matrix\n",
    "        if i == 0:\n",
    "            q_matrix = p_matrix\n",
    "        else:\n",
    "            q_matrix = np.dot(p_matrix, q_matrix)\n",
    "\n",
    "        print(f\"\\n current Q matrix:\\n\\n\"\n",
    "              f\"{q_matrix}\")\n",
    "\n",
    "        # preparing P matrix to next iteration\n",
    "        p_matrix = np.eye(first_dimensional)\n",
    "\n",
    "    q_matrix = np.transpose(q_matrix)\n",
    "\n",
    "    if time_of_execution:\n",
    "        print(f\"time of execution householder_algorithm is: {time.time() - now} s\")\n",
    "\n",
    "    print(f\"\\nfunction return Q matrix:\\n\\n\"\n",
    "          f\"{q_matrix}\\n\\n\"\n",
    "          f\"and R matrix:\\n\\n\"\n",
    "          f\"{r_matrix}\")\n",
    "\n",
    "    return q_matrix, r_matrix\n"
   ]
  },
  {
   "cell_type": "markdown",
   "metadata": {},
   "source": [
    "### Linear equations with using hausholder algorithm"
   ]
  },
  {
   "cell_type": "code",
   "execution_count": 114,
   "metadata": {},
   "outputs": [],
   "source": [
    "def linear_equations_with_householder_algorithm(matrix: np.ndarray,\n",
    "                                                bias: np.ndarray,\n",
    "                                                time_of_execution=False) -> np.ndarray:\n",
    "\n",
    "    print(f\"\\ncompute linear equations with matrix:\\n\\n {matrix} with bias: {bias}\\n\")\n",
    "\n",
    "    if time_of_execution:\n",
    "        now = time.time()\n",
    "\n",
    "    first_dimensional = matrix.shape[0]\n",
    "\n",
    "    if matrix.shape[0] != matrix.shape[1]:\n",
    "        print(\"Error in linear_equations_with_householder_algorithm:\\n\\n\"\n",
    "              \"The input matrix has wrong shape\")\n",
    "        return np.array(False)\n",
    "\n",
    "    bias = np.reshape(bias, newshape=(-1, 1))\n",
    "\n",
    "    if bias.shape[0] != first_dimensional:\n",
    "        print(\"Error in linear_equations_with_householder_algorithm:\\n\\n\"\n",
    "              \"the bias has the wrong shape\")\n",
    "        return np.array(False)\n",
    "\n",
    "    q_matrix, r_matrix = householder_algorithm(matrix, improve_matrix=True, improve_r_matrix=True)\n",
    "    bias = np.dot(np.transpose(q_matrix), bias)\n",
    "    solve = np.array(False)\n",
    "\n",
    "    for i in range(1, first_dimensional + 1, 1):\n",
    "        if r_matrix[-i, - i] == 0:\n",
    "            print(\"Error in linear_equations_with_householder_algorithm:\\n\\n\"\n",
    "                  \"the system is contradictory\")\n",
    "            return np.array(False)\n",
    "\n",
    "        if i == 1:\n",
    "            solve = np.array(bias[-i, 0] / r_matrix[-i, -i])\n",
    "        else:\n",
    "            next_solve_value = (bias[-i, 0] + np.dot(r_matrix[- i, 1 - i:], solve)) / r_matrix[- i, - i]\n",
    "            solve = np.concatenate((np.reshape(next_solve_value, newshape=(-1, 1)),\n",
    "                                    np.reshape(solve, newshape=(-1, 1))), axis=0)\n",
    "            solve = np.reshape(solve, newshape=(-1, 1))\n",
    "\n",
    "        print(f\"\\ncurrent solve: {solve}\")\n",
    "\n",
    "    if time_of_execution:\n",
    "        print(f\"\\ntime of execution linear_equations_with_householder_algorithm is: {time.time() - now} s\")\n",
    "\n",
    "    return solve"
   ]
  },
  {
   "cell_type": "markdown",
   "metadata": {},
   "source": [
    "### Execution "
   ]
  },
  {
   "cell_type": "code",
   "execution_count": 117,
   "metadata": {},
   "outputs": [
    {
     "name": "stdout",
     "output_type": "stream",
     "text": [
      "Input matrix n x n : \n",
      "enter number of rows: 2\n",
      "enter number of columns: 2\n",
      "enter value of matrix[0][0] = 3\n",
      "enter value of matrix[0][1] = 4\n",
      "enter value of matrix[1][0] = 5\n",
      "enter value of matrix[1][1] = 6\n",
      "Input bias 1 x n: \n",
      "enter number of rows: 1\n",
      "enter number of columns: 4\n",
      "enter value of matrix[0][0] = 2\n",
      "enter value of matrix[0][1] = 2\n",
      "enter value of matrix[0][2] = 2\n",
      "enter value of matrix[0][3] = 2\n",
      "\n",
      "compute linear equations with matrix:\n",
      "\n",
      " [[3. 4.]\n",
      " [5. 6.]] with bias: [[2. 2. 2. 2.]]\n",
      "\n",
      "Error in linear_equations_with_householder_algorithm:\n",
      "\n",
      "the bias has the wrong shape\n"
     ]
    },
    {
     "data": {
      "text/plain": [
       "array(False)"
      ]
     },
     "execution_count": 117,
     "metadata": {},
     "output_type": "execute_result"
    }
   ],
   "source": [
    "print(\"Input matrix n x n : \")\n",
    "a_matrix = np.array(input_matrix())\n",
    "print(\"Input bias 1 x n: \")\n",
    "bias = np.array(input_matrix())\n",
    "\n",
    "linear_equations_with_householder_algorithm(a_matrix, bias)"
   ]
  },
  {
   "cell_type": "code",
   "execution_count": null,
   "metadata": {},
   "outputs": [],
   "source": []
  }
 ],
 "metadata": {
  "kernelspec": {
   "display_name": "Python 3",
   "language": "python",
   "name": "python3"
  },
  "language_info": {
   "codemirror_mode": {
    "name": "ipython",
    "version": 3
   },
   "file_extension": ".py",
   "mimetype": "text/x-python",
   "name": "python",
   "nbconvert_exporter": "python",
   "pygments_lexer": "ipython3",
   "version": "3.8.3"
  }
 },
 "nbformat": 4,
 "nbformat_minor": 4
}
