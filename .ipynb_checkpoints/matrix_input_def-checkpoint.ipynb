{
 "cells": [
  {
   "cell_type": "markdown",
   "metadata": {},
   "source": [
    "### Input matrix from user"
   ]
  },
  {
   "cell_type": "code",
   "execution_count": 26,
   "metadata": {},
   "outputs": [],
   "source": [
    "import numpy as np\n",
    "\n",
    "def input_matrix_from_user():\n",
    "    # Take matrix size as input\n",
    "    while True:\n",
    "        try:\n",
    "            row_number = int(input(\"enter number of rows: \"))\n",
    "            column_number = int(input(\"enter number of columns: \"))\n",
    "            break\n",
    "        except ValueError:\n",
    "            print(\"That was no valid number. Try to input integer again \")\n",
    "        \n",
    "    # initialise matrix with zeroes\n",
    "    matrix = np.zeros((row_number, column_number))\n",
    "\n",
    "    # input each element row at a time\n",
    "    for row_iterator in range(row_number):\n",
    "        for column_iterator in range(column_number):\n",
    "            while True:\n",
    "                try:\n",
    "                    matrix[row_iterator][column_iterator] = input(f'enter value for row number: {row_iterator + 1} and column number: {column_iterator +1 } ')\n",
    "                    break\n",
    "                except ValueError:\n",
    "                    print(\"That was no valid number. Try to input number again \")   \n",
    "    return matrix"
   ]
  },
  {
   "cell_type": "code",
   "execution_count": 27,
   "metadata": {},
   "outputs": [
    {
     "name": "stdout",
     "output_type": "stream",
     "text": [
      "enter number of rows: 2\n",
      "enter number of columns: 2\n",
      "enter value for row number: 1 and column number: 1 1\n",
      "enter value for row number: 1 and column number: 2 v\n",
      "That was no valid number. Try to input number again \n",
      "enter value for row number: 1 and column number: 2 2.4\n",
      "enter value for row number: 2 and column number: 1 pi\n",
      "That was no valid number. Try to input number again \n",
      "enter value for row number: 2 and column number: 1 3\n",
      "enter value for row number: 2 and column number: 2 3\n"
     ]
    }
   ],
   "source": [
    "matrix = input_matrix_from_user()"
   ]
  },
  {
   "cell_type": "code",
   "execution_count": 28,
   "metadata": {},
   "outputs": [
    {
     "name": "stdout",
     "output_type": "stream",
     "text": [
      "[[1.  2.4]\n",
      " [3.  3. ]]\n"
     ]
    }
   ],
   "source": [
    "print(matrix)"
   ]
  }
 ],
 "metadata": {
  "kernelspec": {
   "display_name": "Python 3",
   "language": "python",
   "name": "python3"
  },
  "language_info": {
   "codemirror_mode": {
    "name": "ipython",
    "version": 3
   },
   "file_extension": ".py",
   "mimetype": "text/x-python",
   "name": "python",
   "nbconvert_exporter": "python",
   "pygments_lexer": "ipython3",
   "version": "3.8.3"
  }
 },
 "nbformat": 4,
 "nbformat_minor": 4
}
